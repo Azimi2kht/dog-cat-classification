{
 "cells": [
  {
   "cell_type": "code",
   "execution_count": 18,
   "id": "323f5999",
   "metadata": {},
   "outputs": [],
   "source": [
    "import cv2\n",
    "import os\n",
    "import matplotlib.pyplot as plt\n",
    "import tensorflow as tf\n",
    "from tensorflow.keras import Sequential\n",
    "from tensorflow.keras.layers import Dense\n",
    "import random\n",
    "import numpy as np\n",
    "\n",
    "PATH = 'dataset/PetImages'\n",
    "IMG_SIZE = 100\n",
    "CATEGORIES = ['Cat', 'Dog']"
   ]
  },
  {
   "cell_type": "code",
   "execution_count": 19,
   "id": "6a00a0d0",
   "metadata": {},
   "outputs": [
    {
     "name": "stderr",
     "output_type": "stream",
     "text": [
      "Corrupt JPEG data: 214 extraneous bytes before marker 0xd9\n",
      "Corrupt JPEG data: 1153 extraneous bytes before marker 0xd9\n",
      "Corrupt JPEG data: 99 extraneous bytes before marker 0xd9\n",
      "Corrupt JPEG data: 128 extraneous bytes before marker 0xd9\n",
      "Corrupt JPEG data: 239 extraneous bytes before marker 0xd9\n",
      "Corrupt JPEG data: 65 extraneous bytes before marker 0xd9\n",
      "Corrupt JPEG data: 226 extraneous bytes before marker 0xd9\n",
      "Corrupt JPEG data: 162 extraneous bytes before marker 0xd9\n",
      "Warning: unknown JFIF revision number 0.00\n",
      "Corrupt JPEG data: 2230 extraneous bytes before marker 0xd9\n",
      "Corrupt JPEG data: 254 extraneous bytes before marker 0xd9\n",
      "Corrupt JPEG data: 399 extraneous bytes before marker 0xd9\n",
      "Corrupt JPEG data: 1403 extraneous bytes before marker 0xd9\n"
     ]
    }
   ],
   "source": [
    "def get_training_data():\n",
    "    training_set = []\n",
    "    for category in CATEGORIES:\n",
    "        path = os.path.join(PATH, category)\n",
    "        class_index = CATEGORIES.index(category)\n",
    "        for img in os.listdir(path):\n",
    "            try:\n",
    "                array = cv2.imread(os.path.join(path, img), cv2.IMREAD_GRAYSCALE)\n",
    "                resized_array = cv2.resize(array, (IMG_SIZE, IMG_SIZE))\n",
    "                training_set.append([resized_array, class_index])\n",
    "            except Exception as e:\n",
    "                pass\n",
    "    return training_set\n",
    "\n",
    "\n",
    "training_set = get_training_data()\n"
   ]
  },
  {
   "cell_type": "code",
   "execution_count": 20,
   "id": "b6909e64",
   "metadata": {
    "scrolled": true
   },
   "outputs": [
    {
     "name": "stdout",
     "output_type": "stream",
     "text": [
      "24946\n"
     ]
    }
   ],
   "source": [
    "random.shuffle(training_set)\n",
    "training_data_size = len(training_set)\n",
    "print(training_data_size)"
   ]
  },
  {
   "cell_type": "code",
   "execution_count": 21,
   "id": "a3435634",
   "metadata": {},
   "outputs": [
    {
     "data": {
      "text/plain": [
       "(24946, 10000)"
      ]
     },
     "execution_count": 21,
     "metadata": {},
     "output_type": "execute_result"
    }
   ],
   "source": [
    "X = []\n",
    "y = []\n",
    "\n",
    "for feature, label in training_set:\n",
    "    X.append(feature)\n",
    "    y.append(label)\n",
    "\n",
    "X = np.array(X)\n",
    "y = np.array(y)\n",
    "\n",
    "X = X.reshape(training_data_size, IMG_SIZE * IMG_SIZE)\n",
    "X.shape"
   ]
  },
  {
   "cell_type": "code",
   "execution_count": 22,
   "id": "9d304c4c",
   "metadata": {},
   "outputs": [],
   "source": [
    "model = Sequential([\n",
    "    \n",
    "    Dense(25, activation='relu'),\n",
    "    Dense(15, activation='relu'),\n",
    "    Dense(1, activation='sigmoid'),\n",
    "])"
   ]
  },
  {
   "cell_type": "code",
   "execution_count": 23,
   "id": "abc7afa0",
   "metadata": {},
   "outputs": [
    {
     "name": "stdout",
     "output_type": "stream",
     "text": [
      "Epoch 1/100\n",
      " 10/780 [..............................] - ETA: 4s - loss: 141.7874 "
     ]
    },
    {
     "name": "stderr",
     "output_type": "stream",
     "text": [
      "2022-07-31 10:34:26.892168: I tensorflow/core/grappler/optimizers/custom_graph_optimizer_registry.cc:113] Plugin optimizer for device_type GPU is enabled.\n"
     ]
    },
    {
     "name": "stdout",
     "output_type": "stream",
     "text": [
      "780/780 [==============================] - 5s 5ms/step - loss: 55.2709\n",
      "Epoch 2/100\n",
      "780/780 [==============================] - 4s 5ms/step - loss: 18.3518\n",
      "Epoch 3/100\n",
      "780/780 [==============================] - 4s 6ms/step - loss: 9.4000\n",
      "Epoch 4/100\n",
      "780/780 [==============================] - 4s 6ms/step - loss: 2.7609\n",
      "Epoch 5/100\n",
      "780/780 [==============================] - 4s 6ms/step - loss: 0.7092\n",
      "Epoch 6/100\n",
      "780/780 [==============================] - 4s 5ms/step - loss: 0.7013\n",
      "Epoch 7/100\n",
      "780/780 [==============================] - 4s 6ms/step - loss: 0.6936\n",
      "Epoch 8/100\n",
      "780/780 [==============================] - 4s 5ms/step - loss: 0.6865\n",
      "Epoch 9/100\n",
      "780/780 [==============================] - 4s 5ms/step - loss: 0.6843\n",
      "Epoch 10/100\n",
      "780/780 [==============================] - 4s 5ms/step - loss: 0.6840\n",
      "Epoch 11/100\n",
      "780/780 [==============================] - 4s 5ms/step - loss: 0.6886\n",
      "Epoch 12/100\n",
      "780/780 [==============================] - 4s 6ms/step - loss: 0.6842\n",
      "Epoch 13/100\n",
      "780/780 [==============================] - 4s 5ms/step - loss: 0.6913\n",
      "Epoch 14/100\n",
      "780/780 [==============================] - 4s 5ms/step - loss: 0.6932\n",
      "Epoch 15/100\n",
      "780/780 [==============================] - 4s 5ms/step - loss: 0.6932\n",
      "Epoch 16/100\n",
      "780/780 [==============================] - 4s 6ms/step - loss: 0.6932\n",
      "Epoch 17/100\n",
      "780/780 [==============================] - 4s 6ms/step - loss: 0.6932\n",
      "Epoch 18/100\n",
      "780/780 [==============================] - 4s 6ms/step - loss: 0.6932\n",
      "Epoch 19/100\n",
      "780/780 [==============================] - 4s 6ms/step - loss: 0.6932\n",
      "Epoch 20/100\n",
      "780/780 [==============================] - 4s 5ms/step - loss: 0.6932\n",
      "Epoch 21/100\n",
      "780/780 [==============================] - 4s 5ms/step - loss: 0.6932\n",
      "Epoch 22/100\n",
      "780/780 [==============================] - 4s 5ms/step - loss: 0.6932\n",
      "Epoch 23/100\n",
      "780/780 [==============================] - 4s 5ms/step - loss: 0.6932\n",
      "Epoch 24/100\n",
      "780/780 [==============================] - 5s 6ms/step - loss: 0.6932\n",
      "Epoch 25/100\n",
      "780/780 [==============================] - 4s 5ms/step - loss: 0.6932\n",
      "Epoch 26/100\n",
      "780/780 [==============================] - 4s 6ms/step - loss: 0.6932\n",
      "Epoch 27/100\n",
      "780/780 [==============================] - 5s 6ms/step - loss: 0.6932\n",
      "Epoch 28/100\n",
      "780/780 [==============================] - 5s 6ms/step - loss: 0.6932\n",
      "Epoch 29/100\n",
      "780/780 [==============================] - 4s 6ms/step - loss: 0.6932\n",
      "Epoch 30/100\n",
      "780/780 [==============================] - 4s 5ms/step - loss: 0.6932\n",
      "Epoch 31/100\n",
      "780/780 [==============================] - 4s 5ms/step - loss: 0.6932\n",
      "Epoch 32/100\n",
      "780/780 [==============================] - 4s 6ms/step - loss: 0.6932\n",
      "Epoch 33/100\n",
      "780/780 [==============================] - 4s 6ms/step - loss: 0.6932\n",
      "Epoch 34/100\n",
      "780/780 [==============================] - 4s 5ms/step - loss: 0.6932\n",
      "Epoch 35/100\n",
      "780/780 [==============================] - 4s 6ms/step - loss: 0.6932\n",
      "Epoch 36/100\n",
      "780/780 [==============================] - 4s 5ms/step - loss: 0.6932\n",
      "Epoch 37/100\n",
      "780/780 [==============================] - 4s 5ms/step - loss: 0.6932\n",
      "Epoch 38/100\n",
      "780/780 [==============================] - 4s 6ms/step - loss: 0.6932\n",
      "Epoch 39/100\n",
      "780/780 [==============================] - 4s 6ms/step - loss: 0.6932\n",
      "Epoch 40/100\n",
      "780/780 [==============================] - 4s 6ms/step - loss: 0.6932\n",
      "Epoch 41/100\n",
      "780/780 [==============================] - 4s 5ms/step - loss: 0.6932\n",
      "Epoch 42/100\n",
      "780/780 [==============================] - 4s 6ms/step - loss: 0.6932\n",
      "Epoch 43/100\n",
      "780/780 [==============================] - 4s 6ms/step - loss: 0.6932\n",
      "Epoch 44/100\n",
      "780/780 [==============================] - 4s 6ms/step - loss: 0.6932\n",
      "Epoch 45/100\n",
      "780/780 [==============================] - 4s 5ms/step - loss: 0.6932\n",
      "Epoch 46/100\n",
      "780/780 [==============================] - 4s 5ms/step - loss: 0.6932\n",
      "Epoch 47/100\n",
      "780/780 [==============================] - 4s 5ms/step - loss: 0.6932\n",
      "Epoch 48/100\n",
      "780/780 [==============================] - 4s 5ms/step - loss: 0.6932\n",
      "Epoch 49/100\n",
      "780/780 [==============================] - 4s 5ms/step - loss: 0.6932\n",
      "Epoch 50/100\n",
      "780/780 [==============================] - 4s 5ms/step - loss: 0.6932\n",
      "Epoch 51/100\n",
      "780/780 [==============================] - 4s 5ms/step - loss: 0.6932\n",
      "Epoch 52/100\n",
      "780/780 [==============================] - 4s 5ms/step - loss: 0.6932\n",
      "Epoch 53/100\n",
      "780/780 [==============================] - 4s 5ms/step - loss: 0.6932\n",
      "Epoch 54/100\n",
      "780/780 [==============================] - 4s 5ms/step - loss: 0.6932\n",
      "Epoch 55/100\n",
      "780/780 [==============================] - 4s 5ms/step - loss: 0.6932\n",
      "Epoch 56/100\n",
      "780/780 [==============================] - 4s 5ms/step - loss: 0.6932\n",
      "Epoch 57/100\n",
      "780/780 [==============================] - 4s 6ms/step - loss: 0.6932\n",
      "Epoch 58/100\n",
      "780/780 [==============================] - 4s 5ms/step - loss: 0.6932\n",
      "Epoch 59/100\n",
      "780/780 [==============================] - 4s 5ms/step - loss: 0.6932\n",
      "Epoch 60/100\n",
      "780/780 [==============================] - 4s 5ms/step - loss: 0.6932\n",
      "Epoch 61/100\n",
      "780/780 [==============================] - 4s 6ms/step - loss: 0.6932\n",
      "Epoch 62/100\n",
      "780/780 [==============================] - 4s 5ms/step - loss: 0.6932\n",
      "Epoch 63/100\n",
      "780/780 [==============================] - 4s 5ms/step - loss: 0.6932\n",
      "Epoch 64/100\n",
      "780/780 [==============================] - 4s 5ms/step - loss: 0.6931\n",
      "Epoch 65/100\n",
      "780/780 [==============================] - 4s 5ms/step - loss: 0.6932\n",
      "Epoch 66/100\n",
      "780/780 [==============================] - 4s 5ms/step - loss: 0.6931\n",
      "Epoch 67/100\n",
      "780/780 [==============================] - 4s 5ms/step - loss: 0.6932\n",
      "Epoch 68/100\n",
      "780/780 [==============================] - 5s 6ms/step - loss: 0.6932\n",
      "Epoch 69/100\n",
      "780/780 [==============================] - 4s 6ms/step - loss: 0.6932\n",
      "Epoch 70/100\n",
      "780/780 [==============================] - 4s 5ms/step - loss: 0.6932\n",
      "Epoch 71/100\n",
      "780/780 [==============================] - 4s 5ms/step - loss: 0.6932\n",
      "Epoch 72/100\n",
      "780/780 [==============================] - 4s 5ms/step - loss: 0.6932\n",
      "Epoch 73/100\n",
      "780/780 [==============================] - 4s 5ms/step - loss: 0.6932\n",
      "Epoch 74/100\n",
      "780/780 [==============================] - 4s 5ms/step - loss: 0.6932\n",
      "Epoch 75/100\n",
      "780/780 [==============================] - 4s 5ms/step - loss: 0.6932\n",
      "Epoch 76/100\n",
      "780/780 [==============================] - 4s 5ms/step - loss: 0.6932\n",
      "Epoch 77/100\n",
      "780/780 [==============================] - 4s 5ms/step - loss: 0.6932\n",
      "Epoch 78/100\n",
      "780/780 [==============================] - 4s 6ms/step - loss: 0.6932\n",
      "Epoch 79/100\n",
      "780/780 [==============================] - 4s 5ms/step - loss: 0.6932\n",
      "Epoch 80/100\n",
      "780/780 [==============================] - 4s 5ms/step - loss: 0.6932\n",
      "Epoch 81/100\n",
      "780/780 [==============================] - 4s 5ms/step - loss: 0.6932\n",
      "Epoch 82/100\n",
      "780/780 [==============================] - 4s 5ms/step - loss: 0.6932\n",
      "Epoch 83/100\n",
      "780/780 [==============================] - 4s 5ms/step - loss: 0.6932\n",
      "Epoch 84/100\n",
      "780/780 [==============================] - 4s 5ms/step - loss: 0.6932\n",
      "Epoch 85/100\n",
      "780/780 [==============================] - 4s 5ms/step - loss: 0.6932\n",
      "Epoch 86/100\n",
      "780/780 [==============================] - 4s 5ms/step - loss: 0.6932\n",
      "Epoch 87/100\n",
      "780/780 [==============================] - 4s 5ms/step - loss: 0.6932\n",
      "Epoch 88/100\n",
      "780/780 [==============================] - 4s 5ms/step - loss: 0.6932\n",
      "Epoch 89/100\n",
      "780/780 [==============================] - 4s 5ms/step - loss: 0.6932\n",
      "Epoch 90/100\n",
      "780/780 [==============================] - 4s 5ms/step - loss: 0.6932\n",
      "Epoch 91/100\n",
      "780/780 [==============================] - 4s 5ms/step - loss: 0.6932\n",
      "Epoch 92/100\n",
      "780/780 [==============================] - 4s 5ms/step - loss: 0.6932\n",
      "Epoch 93/100\n",
      "780/780 [==============================] - 4s 5ms/step - loss: 0.6932\n",
      "Epoch 94/100\n",
      "780/780 [==============================] - 4s 6ms/step - loss: 0.6932\n",
      "Epoch 95/100\n",
      "780/780 [==============================] - 4s 6ms/step - loss: 0.6932\n",
      "Epoch 96/100\n",
      "780/780 [==============================] - 4s 6ms/step - loss: 0.6932\n",
      "Epoch 97/100\n",
      "780/780 [==============================] - 4s 6ms/step - loss: 0.6932\n",
      "Epoch 98/100\n",
      "780/780 [==============================] - 4s 5ms/step - loss: 0.6932\n",
      "Epoch 99/100\n"
     ]
    },
    {
     "name": "stdout",
     "output_type": "stream",
     "text": [
      "780/780 [==============================] - 4s 5ms/step - loss: 0.6932\n",
      "Epoch 100/100\n",
      "780/780 [==============================] - 4s 5ms/step - loss: 0.6932\n"
     ]
    },
    {
     "data": {
      "text/plain": [
       "<keras.callbacks.History at 0x162767730>"
      ]
     },
     "execution_count": 23,
     "metadata": {},
     "output_type": "execute_result"
    }
   ],
   "source": [
    "model.compile(\n",
    "    optimizer=tf.keras.optimizers.Adam(learning_rate=1e-3),\n",
    "    loss=tf.keras.losses.binary_crossentropy,\n",
    ")\n",
    "model.fit(\n",
    "    X,\n",
    "    y,\n",
    "    epochs=100,\n",
    ")"
   ]
  },
  {
   "cell_type": "code",
   "execution_count": 24,
   "id": "a01d964d",
   "metadata": {},
   "outputs": [
    {
     "name": "stdout",
     "output_type": "stream",
     "text": [
      "Model: \"sequential_3\"\n",
      "_________________________________________________________________\n",
      " Layer (type)                Output Shape              Param #   \n",
      "=================================================================\n",
      " dense_9 (Dense)             (None, 25)                250025    \n",
      "                                                                 \n",
      " dense_10 (Dense)            (None, 15)                390       \n",
      "                                                                 \n",
      " dense_11 (Dense)            (None, 1)                 16        \n",
      "                                                                 \n",
      "=================================================================\n",
      "Total params: 250,431\n",
      "Trainable params: 250,431\n",
      "Non-trainable params: 0\n",
      "_________________________________________________________________\n"
     ]
    }
   ],
   "source": [
    "model.summary()"
   ]
  },
  {
   "cell_type": "code",
   "execution_count": 25,
   "id": "44bc55c8",
   "metadata": {},
   "outputs": [
    {
     "name": "stdout",
     "output_type": "stream",
     "text": [
      "1/1 [==============================] - 0s 85ms/step\n"
     ]
    },
    {
     "name": "stderr",
     "output_type": "stream",
     "text": [
      "2022-07-31 10:41:31.713812: I tensorflow/core/grappler/optimizers/custom_graph_optimizer_registry.cc:113] Plugin optimizer for device_type GPU is enabled.\n"
     ]
    },
    {
     "data": {
      "text/plain": [
       "array([[0.50001204]], dtype=float32)"
      ]
     },
     "execution_count": 25,
     "metadata": {},
     "output_type": "execute_result"
    }
   ],
   "source": [
    "test_dog = cv2.imread('images.jpeg', 0)\n",
    "resized_dog_img = cv2.resize(test_dog, (IMG_SIZE, IMG_SIZE))\n",
    "x = resized_dog_img.flatten()\n",
    "x = np.reshape(x, (1, 10000))\n",
    "model.predict(x)\n",
    "\n"
   ]
  },
  {
   "cell_type": "code",
   "execution_count": null,
   "id": "31632da5",
   "metadata": {},
   "outputs": [],
   "source": []
  }
 ],
 "metadata": {
  "kernelspec": {
   "display_name": "Python 3 (ipykernel)",
   "language": "python",
   "name": "python3"
  },
  "language_info": {
   "codemirror_mode": {
    "name": "ipython",
    "version": 3
   },
   "file_extension": ".py",
   "mimetype": "text/x-python",
   "name": "python",
   "nbconvert_exporter": "python",
   "pygments_lexer": "ipython3",
   "version": "3.10.5"
  }
 },
 "nbformat": 4,
 "nbformat_minor": 5
}
